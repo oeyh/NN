{
 "cells": [
  {
   "cell_type": "markdown",
   "metadata": {},
   "source": [
    "# K-means Clustering and Principal Component Analysis\n",
    "\n",
    "## 1 K-means Clustering\n",
    "\n",
    "### 1.1 K-means algorithm overview\n",
    "\n",
    "The K-means algorithm is a method to automatically cluster similar data examples together. The intuition behind K-means is an iterative procedure that starts by guessing the initial centroids, and then refines this guess by  repeatedly assigning examples to their closest centroids and then recomputing the centroids based on the assignments. \n",
    "\n",
    "The K-means algorithm is as follows:\n",
    "\n",
    "1. Initialize centeroids randomly  \n",
    "2. Assign each data point to the closest centroid  \n",
    "3. Compute means assigned to each centroid and update centroid location  \n",
    "4. Repeat step 2 and 3 until converge\n",
    "\n",
    "Note that the converged solution may not always be ideal and depends on the initial setting of the centroids. Therefore, in practice the K-means algorithm is usually run a few times with different random initializations. One way to choose between these different solutions from different random initializations is to choose the one with the lowest cost function value (distortion).\n"
   ]
  },
  {
   "cell_type": "markdown",
   "metadata": {},
   "source": [
    "### 1.1.1 Finding closest centroids\n",
    "\n"
   ]
  },
  {
   "cell_type": "code",
   "execution_count": 1,
   "metadata": {},
   "outputs": [],
   "source": [
    "import numpy as np\n",
    "import matplotlib.pyplot as plt\n",
    "import matplotlib\n",
    "%matplotlib inline"
   ]
  },
  {
   "cell_type": "code",
   "execution_count": 9,
   "metadata": {},
   "outputs": [],
   "source": [
    "def findClosestCentroids(X, centroids):\n",
    "    \"\"\"returns the closest centroids\n",
    "%   in idx for a dataset X where each row is a single example.\n",
    "    \"\"\"\n",
    "    \n",
    "    m, n = X.shape\n",
    "    k = centroids.shape[0]\n",
    "    \n",
    "    idx = np.zeros(m)\n",
    "    \n",
    "    for i in range(m):\n",
    "        \n",
    "        d = np.sum((X[i, :] - centroids)**2, axis=1)\n",
    "#         print(d)\n",
    "#         print(d.shape)\n",
    "        \n",
    "        idx[i] = np.argmin(d)\n",
    "    \n",
    "    return idx"
   ]
  },
  {
   "cell_type": "code",
   "execution_count": 13,
   "metadata": {},
   "outputs": [
    {
     "name": "stdout",
     "output_type": "stream",
     "text": [
      "[ 0.  2.  1.]\n",
      "Expected: 0, 2, 1\n"
     ]
    }
   ],
   "source": [
    "from scipy.io import loadmat\n",
    "\n",
    "data = loadmat('ex7data2.mat')\n",
    "\n",
    "X = data['X']\n",
    "\n",
    "\n",
    "initial_c = np.array([[3, 3], [6, 2], [8, 5]])\n",
    "\n",
    "idx = findClosestCentroids(X, initial_c)\n",
    "print(idx[:3])\n",
    "print('Expected: 0, 2, 1')"
   ]
  },
  {
   "cell_type": "code",
   "execution_count": 11,
   "metadata": {},
   "outputs": [
    {
     "data": {
      "text/plain": [
       "array([ 0.,  2.,  1.])"
      ]
     },
     "execution_count": 11,
     "metadata": {},
     "output_type": "execute_result"
    }
   ],
   "source": [
    "idx[:3]"
   ]
  },
  {
   "cell_type": "code",
   "execution_count": null,
   "metadata": {},
   "outputs": [],
   "source": [
    "\n",
    "\n",
    "\n",
    "\n",
    "\n",
    "\n",
    "\n",
    "\n",
    "\n",
    "\n",
    "\n",
    "\n",
    "\n",
    "\n",
    "\n",
    "\n",
    "\n",
    "\n",
    "\n"
   ]
  }
 ],
 "metadata": {
  "kernelspec": {
   "display_name": "Python 3",
   "language": "python",
   "name": "python3"
  },
  "language_info": {
   "codemirror_mode": {
    "name": "ipython",
    "version": 3
   },
   "file_extension": ".py",
   "mimetype": "text/x-python",
   "name": "python",
   "nbconvert_exporter": "python",
   "pygments_lexer": "ipython3",
   "version": "3.6.4"
  }
 },
 "nbformat": 4,
 "nbformat_minor": 2
}
