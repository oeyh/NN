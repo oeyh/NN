{
 "cells": [
  {
   "cell_type": "markdown",
   "metadata": {},
   "source": [
    "# Bias vs Variance\n",
    "## 1. Regularized Linear Regression\n",
    "In the first half of the exercise, you will implement regularized linear regression to predict the amount of water flowing out of a dam using the change of water level in a reservoir.\n",
    "\n",
    "### 1.1 Visualizing the data\n",
    "The dataset is divided into 3 parts:\n",
    "1) A training set X and y\n",
    "\n",
    "2) A cross validation set for determining the regularization parameter: Xval, yval\n",
    "\n",
    "3) A test set for evaluating performance: Xtest, ytest"
   ]
  },
  {
   "cell_type": "code",
   "execution_count": 33,
   "metadata": {},
   "outputs": [],
   "source": [
    "import numpy as np\n",
    "import matplotlib.pyplot as plt\n",
    "import matplotlib\n",
    "%matplotlib inline"
   ]
  },
  {
   "cell_type": "code",
   "execution_count": 34,
   "metadata": {},
   "outputs": [],
   "source": [
    "from scipy.io import loadmat\n",
    "\n",
    "data = loadmat('ex5data1.mat')\n",
    "\n",
    "# X, y are all 2d arrays\n",
    "X = data[\"X\"]   \n",
    "y = data[\"y\"]\n",
    "Xval = data[\"Xval\"]   \n",
    "yval = data[\"yval\"]\n",
    "Xtest = data[\"Xtest\"]   \n",
    "ytest = data[\"ytest\"]"
   ]
  },
  {
   "cell_type": "code",
   "execution_count": 35,
   "metadata": {},
   "outputs": [
    {
     "name": "stdout",
     "output_type": "stream",
     "text": [
      "(12, 1)\n"
     ]
    }
   ],
   "source": [
    "print(y.shape)"
   ]
  },
  {
   "cell_type": "code",
   "execution_count": 36,
   "metadata": {},
   "outputs": [],
   "source": [
    "# Update the matplotlib configuration parameters:\n",
    "matplotlib.rcParams.update({'font.size': 16, 'font.family': 'STIXGeneral', 'mathtext.fontset': 'stix'})"
   ]
  },
  {
   "cell_type": "code",
   "execution_count": 37,
   "metadata": {},
   "outputs": [
    {
     "data": {
      "text/plain": [
       "Text(0,0.5,'Water flowing out of the dam (y)')"
      ]
     },
     "execution_count": 37,
     "metadata": {},
     "output_type": "execute_result"
    },
    {
     "data": {
      "image/png": "[encoded data removed]",
      "text/plain": [
       "<matplotlib.figure.Figure at 0x10b339198>"
      ]
     },
     "metadata": {},
     "output_type": "display_data"
    }
   ],
   "source": [
    "# plot the data in training sample\n",
    "fig, ax = plt.subplots(figsize=(9,6))\n",
    "\n",
    "ax.plot(X, y, 'rx', markersize=8)\n",
    "ax.set_xlabel('Change in water level (x)')\n",
    "ax.set_ylabel('Water flowing out of the dam (y)')"
   ]
  },
  {
   "cell_type": "markdown",
   "metadata": {},
   "source": [
    "### 1.2 Regularized linear regression cost function\n",
    "\n",
    "Recall that regularized linear regression has the following cost function:\n",
    "\n",
    "$$ J(\\theta)=\\frac{1}{2m}\\sum_{i=1}^m(h_\\theta(x^{(i)})-y^{(i)})^2 + \\frac{\\lambda}{2m}\\sum_{j=1}^n\\theta_j^2$$\n",
    "\n",
    "where $\\lambda$ is a regularization parameter which controls the degree of regularization (thus help preventing overfitting). The regularization term puts a penalty on the overal cost J. As the magnitudes of the model parameters $\\theta_j$ increase, the penalty increases as well. Note that you should not regularize the $\\theta_0$ term.\n",
    "\n",
    "#### Vectorization\n",
    "\n",
    "$$J(\\theta) = \\frac{1}{2m}(X\\theta-y)^T(X\\theta-y) + \\frac{\\lambda}{2m}\\theta_{1-n}^T\\theta_{1-n}$$\n",
    "\n",
    "$\\theta_{1-n}$ in the second term does not contain bias term"
   ]
  },
  {
   "cell_type": "markdown",
   "metadata": {},
   "source": [
    "### 1.3 Regularized linear regression gradient\n",
    "Correspondingly, the partial derivative of regularized linear regression's cost for $\\theta_j$ is defined as:\n",
    "\n",
    "$$ \\frac{\\partial J(\\theta)}{\\partial \\theta_j}=\\frac{1}{m} \\sum_{i=0}^m(h_\\theta(x^{(i)})-y{(i)})x_j^{(i)} \\qquad for\\;j=0$$\n",
    "\n",
    "$$ \\frac{\\partial J(\\theta)}{\\partial \\theta_j}=\\left( \\frac{1}{m} \\sum_{i=0}^m(h_\\theta(x^{(i)})-y{(i)})x_j^{(i)}\\right)+\\frac{\\lambda}{m}\\theta_j \\qquad for\\;j\\geq 1$$\n"
   ]
  },
  {
   "cell_type": "markdown",
   "metadata": {},
   "source": [
    "#### Vectorization\n",
    "$$ \\frac{\\partial J(\\theta)}{\\partial \\theta}=\\frac{1}{m} X^T(X\\theta-y) \\qquad for\\;j=0$$\n",
    "\n",
    "$$ \\frac{\\partial J(\\theta)}{\\partial \\theta}=\\frac{1}{m} X^T(X\\theta-y)+\\frac{\\lambda}{m}\\theta \\qquad for\\;j\\geq1$$"
   ]
  },
  {
   "cell_type": "code",
   "execution_count": 38,
   "metadata": {},
   "outputs": [],
   "source": [
    "def linearRegCostFunction(theta, X, y, lmd):\n",
    "    \"\"\"computes the \n",
    "%   cost of using theta as the parameter for linear regression to fit the \n",
    "%   data points in X and y. Returns the cost in J and the gradient in grad\n",
    "    \"\"\"\n",
    "    # number of samples\n",
    "    m = len(y)\n",
    "    \n",
    "    # convert theta to 2d vector\n",
    "    theta = theta[:, np.newaxis]\n",
    "    \n",
    "    # cost function\n",
    "    J = (X@theta-y).T@(X@theta-y)/2/m + theta[1:, :].T@theta[1:, :]*lmd/2/m\n",
    "    \n",
    "    # gradient\n",
    "    grad = 1 / m * X.T @ (X@theta-y)\n",
    "    grad[1:, :] += lmd / m * theta[1:, :]\n",
    "    \n",
    "    return J[0, 0], grad.flatten()"
   ]
  },
  {
   "cell_type": "code",
   "execution_count": 39,
   "metadata": {
    "scrolled": true
   },
   "outputs": [
    {
     "name": "stdout",
     "output_type": "stream",
     "text": [
      "303.99319222\n",
      "Expected ~303.993192\n",
      "[ -15.30301567  598.25074417]\n",
      "Expected: [ -15.30301567  598.25074417]\n"
     ]
    }
   ],
   "source": [
    "# test cost function\n",
    "m, n = X.shape\n",
    "X_wb = np.concatenate((np.ones((m, 1)), X), axis=1)\n",
    "\n",
    "lmd = 1\n",
    "theta0 = np.array([1, 1])\n",
    "\n",
    "J, grad = linearRegCostFunction(theta0, X_wb, y, lmd)\n",
    "\n",
    "print(J)\n",
    "print(\"Expected ~303.993192\")\n",
    "print(grad)\n",
    "print(\"Expected: [ -15.30301567  598.25074417]\")"
   ]
  },
  {
   "cell_type": "markdown",
   "metadata": {},
   "source": [
    "### 1.4 Fitting linear regression using minimize function\n",
    "\n",
    "\n"
   ]
  },
  {
   "cell_type": "code",
   "execution_count": 40,
   "metadata": {},
   "outputs": [
    {
     "name": "stdout",
     "output_type": "stream",
     "text": [
      "     fun: 22.373906495108912\n",
      "     jac: array([ -3.04942560e-09,  -4.20907605e-09])\n",
      " message: 'Local minimum reached (|pg| ~= 0)'\n",
      "    nfev: 9\n",
      "     nit: 4\n",
      "  status: 0\n",
      " success: True\n",
      "       x: array([ 13.08790351,   0.36777923])\n"
     ]
    }
   ],
   "source": [
    "from scipy.optimize import minimize\n",
    "\n",
    "# initial conidition, 1d array\n",
    "# n is number of features, in this case, n=1\n",
    "theta0 = np.zeros(n+1)\n",
    "\n",
    "lmd = 0\n",
    "\n",
    "# run optimization\n",
    "result = minimize(linearRegCostFunction, theta0, args=(X_wb, y, lmd), method='TNC', jac=True, options={'disp': True, 'maxiter':200})\n",
    "print(result)"
   ]
  },
  {
   "cell_type": "code",
   "execution_count": 41,
   "metadata": {
    "scrolled": false
   },
   "outputs": [
    {
     "data": {
      "text/plain": [
       "Text(0,0.5,'Water flowing out of the dam (y)')"
      ]
     },
     "execution_count": 41,
     "metadata": {},
     "output_type": "execute_result"
    },
    {
     "data": {
      "image/png": "[encoded data removed]",
      "text/plain": [
       "<matplotlib.figure.Figure at 0x18103664a8>"
      ]
     },
     "metadata": {},
     "output_type": "display_data"
    }
   ],
   "source": [
    "# visualizing result\n",
    "theta = result.x\n",
    "\n",
    "# predicted y\n",
    "Xp = np.linspace(-65, 65, 51)[:, np.newaxis]\n",
    "mp = Xp.shape[0]\n",
    "Xp_wb = np.concatenate((np.ones((mp, 1)), Xp), axis=1)\n",
    "yp = Xp_wb@theta[:, np.newaxis]\n",
    "\n",
    "# plot\n",
    "fig, ax = plt.subplots(figsize=(9,6))\n",
    "\n",
    "ax.plot(X, y, 'rx', markersize=8)\n",
    "ax.plot(Xp, yp)\n",
    "ax.set_xlabel('Change in water level (x)')\n",
    "ax.set_ylabel('Water flowing out of the dam (y)')"
   ]
  },
  {
   "cell_type": "markdown",
   "metadata": {},
   "source": [
    "## 2 Bias vs. Variance\n",
    "An important concept in machine learning is the bias-variance tradeoff. Models with high bias are not complex enough for the data and tend to underfit, while models with high variance overfit to the training data. \n",
    "\n",
    "### 2.1 Learning curves\n",
    "To plot the learning curve, we need a training and cross validation set error for different training set sizes. \n",
    "\n",
    "Recall that the training error for a dataset is defined as: \n",
    "\n",
    "$$ J_{train}(\\theta)=\\frac{1}{2m}\\sum_{i=1}^m(h_\\theta(x^{(i)})-y^{(i)})^2$$\n",
    "\n",
    "Note that regularization term is not included. \n",
    "\n",
    "When you are computing the training set error, make sure you compute it on the training subset (i.e., X(1:n,:) and y(1:n)) (instead of the entire training set). However, for the cross validation error, you should compute it over the entire cross validation set."
   ]
  },
  {
   "cell_type": "code",
   "execution_count": 42,
   "metadata": {},
   "outputs": [],
   "source": [
    "def learningCurve(X, y, Xval, yval, lmd):\n",
    "    \"\"\"returns the train and\n",
    "%       cross validation set errors for a learning curve. In particular, \n",
    "%       it returns two vectors of the same length - error_train and \n",
    "%       error_val. Then, error_train(i) contains the training error for\n",
    "%       i examples (and similarly for error_val(i)).\n",
    "    \"\"\"\n",
    "    \n",
    "    # X and Xval already has bias items\n",
    "    \n",
    "    # number of samples in training set\n",
    "    m = len(y)\n",
    "    \n",
    "    # number of samples in validation set\n",
    "    n = len(yval)\n",
    "    \n",
    "    # init error array\n",
    "    error_train = np.zeros(m)\n",
    "    error_val = np.zeros(m)\n",
    "    \n",
    "    for i in range(m):\n",
    "        \n",
    "        result = minimize(linearRegCostFunction, theta0, args=(X_wb[:(i+1), :], y[:(i+1), :], lmd), method='TNC', jac=True, options={'disp': True})\n",
    "        theta = result.x[:, np.newaxis]\n",
    "        \n",
    "        error_train[i] = ((X[:(i+1), :]@theta-y[:(i+1), :]).T@(X[:(i+1), :]@theta-y[:(i+1), :])/2/(i+1))[0, 0]\n",
    "        error_val[i] = ((Xval@theta-yval).T@(Xval@theta-yval)/2/n)[0, 0]\n",
    "        \n",
    "    return error_train, error_val"
   ]
  },
  {
   "cell_type": "code",
   "execution_count": 43,
   "metadata": {
    "scrolled": false
   },
   "outputs": [
    {
     "data": {
      "text/plain": [
       "<matplotlib.legend.Legend at 0x181059b198>"
      ]
     },
     "execution_count": 43,
     "metadata": {},
     "output_type": "execute_result"
    },
    {
     "data": {
      "image/png": "[encoded data removed]",
      "text/plain": [
       "<matplotlib.figure.Figure at 0x181048f908>"
      ]
     },
     "metadata": {},
     "output_type": "display_data"
    }
   ],
   "source": [
    "# plot learning curve\n",
    "\n",
    "lmd = 0\n",
    "\n",
    "# add bias terms to Xval\n",
    "mval = len(yval)\n",
    "Xval_wb = np.concatenate((np.ones((mval, 1)), Xval), axis=1)\n",
    "\n",
    "# calculate error\n",
    "error_train, error_val = learningCurve(X_wb, y, Xval_wb, yval, lmd)\n",
    "\n",
    "# plot learning curve\n",
    "fig, ax = plt.subplots(figsize=(9,6))\n",
    "\n",
    "ax.plot(np.arange(m), error_train, 'b', label='Train')\n",
    "ax.plot(np.arange(m), error_val, 'g', label='Validation')\n",
    "ax.set_xlabel('Number of training examples')\n",
    "ax.set_ylabel('Prediction Error')\n",
    "ax.legend()"
   ]
  },
  {
   "cell_type": "markdown",
   "metadata": {},
   "source": [
    "Both the train error and cross validation error are high when the number of training examples is increased. This\n",
    "reflects a high bias problem in the model. The linear regression model is too simple to fit the dataset well. "
   ]
  },
  {
   "cell_type": "markdown",
   "metadata": {},
   "source": [
    "## 3 Polynomial regression\n",
    "\n"
   ]
  },
  {
   "cell_type": "code",
   "execution_count": 44,
   "metadata": {},
   "outputs": [],
   "source": [
    "def polyFeatures(X, p):\n",
    "    \"\"\"takes a data matrix X (size m x 1, 2d array) and\n",
    "%   maps each example into its polynomial features where\n",
    "%   X_poly(i, :) = [X(i) X(i).^2 X(i).^3 ...  X(i).^p];\n",
    "    \"\"\"\n",
    "    \n",
    "    X_poly = np.zeros((X.shape[0], p))\n",
    "    \n",
    "    for i in range(p):\n",
    "        X_poly[:, i] = X[:, 0] ** (i+1)\n",
    "        \n",
    "    return X_poly       "
   ]
  },
  {
   "cell_type": "markdown",
   "metadata": {},
   "source": [
    "### 3.1 Learning Polynomial Regression\n",
    "\n",
    "Feature normalization function is same as in assignment 1. "
   ]
  },
  {
   "cell_type": "code",
   "execution_count": 45,
   "metadata": {},
   "outputs": [],
   "source": [
    "def featureNormalize(X):\n",
    "    \"\"\"returns a normalized version of X where\n",
    "       the mean value of each feature is 0 and the standard deviation\n",
    "       is 1. This is often a good preprocessing step to do when\n",
    "       working with learning algorithms.\n",
    "    \"\"\"\n",
    "    mu = np.mean(X, axis=0)\n",
    "    sigma = np.std(X, axis=0, ddof=1) # note that adding ddof=1 (delta degree of freedom) will calculate unbiased std. \n",
    "    X_norm = (X - mu) / sigma # broadcasting in use\n",
    "    \n",
    "    return X_norm, mu, sigma"
   ]
  },
  {
   "cell_type": "code",
   "execution_count": 46,
   "metadata": {},
   "outputs": [],
   "source": [
    "# order of polynomial feature\n",
    "p = 8\n",
    "\n",
    "# map feature and normalize for:\n",
    "# 1) training set\n",
    "X_poly = polyFeatures(X, p)\n",
    "X_poly, mu, sigma = featureNormalize(X_poly)\n",
    "X_poly_wb = np.concatenate((np.ones((m, 1)), X_poly), axis=1)\n",
    "\n",
    "\n",
    "# 2) Cross Validation set\n",
    "Xval_poly = polyFeatures(Xval, p)\n",
    "Xval_poly, mu_val, sigma_val = featureNormalize(Xval_poly)\n",
    "Xval_poly_wb = np.concatenate((np.ones((mval, 1)), Xval_poly), axis=1)\n",
    "\n",
    "# 3) test set\n",
    "mtest = Xtest.shape[0]\n",
    "Xtest_poly = polyFeatures(Xtest, p)\n",
    "Xtest_poly, mu_test, sigma_test = featureNormalize(Xtest_poly)\n",
    "Xtest_poly_wb = np.concatenate((np.ones((mtest, 1)), Xtest_poly), axis=1)"
   ]
  },
  {
   "cell_type": "code",
   "execution_count": 47,
   "metadata": {},
   "outputs": [],
   "source": [
    "# Learning polynomial regression\n",
    "lmd = 0\n",
    "init_theta = np.zeros(p+1)\n",
    "\n",
    "result = minimize(linearRegCostFunction, init_theta, args=(X_poly_wb, y, lmd), method='TNC', jac=True, options={'disp': True, 'maxiter':200})\n",
    "theta = result.x"
   ]
  },
  {
   "cell_type": "code",
   "execution_count": 49,
   "metadata": {},
   "outputs": [
    {
     "name": "stdout",
     "output_type": "stream",
     "text": [
      "(51, 1)\n"
     ]
    },
    {
     "data": {
      "text/plain": [
       "Text(0,0.5,'Water flowing out of the dam (y)')"
      ]
     },
     "execution_count": 49,
     "metadata": {},
     "output_type": "execute_result"
    },
    {
     "data": {
      "image/png": "[encoded data removed]",
      "text/plain": [
       "<matplotlib.figure.Figure at 0x18106dc2e8>"
      ]
     },
     "metadata": {},
     "output_type": "display_data"
    }
   ],
   "source": [
    "# visualizing result\n",
    "\n",
    "# predicted y\n",
    "Xp = np.linspace(-65, 55, 51)[:, np.newaxis]\n",
    "print(Xp.shape)\n",
    "mp = Xp.shape[0]\n",
    "Xp_poly = polyFeatures(Xp, p)\n",
    "Xp_poly = (Xp_poly - mu) / sigma # need to use mu, sigma of the training sample to normalize this set\n",
    "Xp_poly_wb = np.concatenate((np.ones((mp, 1)), Xp_poly), axis=1) \n",
    "\n",
    "yp = Xp_poly_wb@theta[:, np.newaxis]\n",
    "\n",
    "# plot\n",
    "fig, ax = plt.subplots(figsize=(9,6))\n",
    "\n",
    "ax.plot(X, y, 'rx', markersize=8)\n",
    "ax.plot(Xp, yp, '--', markersize=10)\n",
    "# ax.plot(X, X_poly_wb@theta[:, np.newaxis], 'go', markersize=8)\n",
    "ax.set_xlabel('Change in water level (x)')\n",
    "ax.set_ylabel('Water flowing out of the dam (y)')"
   ]
  },
  {
   "cell_type": "code",
   "execution_count": null,
   "metadata": {},
   "outputs": [],
   "source": [
    "\n",
    "\n",
    "\n",
    "\n",
    "\n",
    "\n",
    "\n",
    "\n",
    "\n",
    "\n",
    "\n",
    "\n",
    "\n",
    "\n",
    "\n",
    "\n",
    "\n",
    "\n",
    "\n",
    "\n",
    "\n",
    "\n"
   ]
  }
 ],
 "metadata": {
  "kernelspec": {
   "display_name": "Python 3",
   "language": "python",
   "name": "python3"
  },
  "language_info": {
   "codemirror_mode": {
    "name": "ipython",
    "version": 3
   },
   "file_extension": ".py",
   "mimetype": "text/x-python",
   "name": "python",
   "nbconvert_exporter": "python",
   "pygments_lexer": "ipython3",
   "version": "3.6.4"
  }
 },
 "nbformat": 4,
 "nbformat_minor": 2
}
